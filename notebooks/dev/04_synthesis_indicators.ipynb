{
 "cells": [
  {
   "cell_type": "markdown",
   "metadata": {},
   "source": [
    "# Indicator synthesis"
   ]
  },
  {
   "cell_type": "code",
   "execution_count": null,
   "metadata": {},
   "outputs": [],
   "source": [
    "%run ../notebook_preamble.ipy\n",
    "\n",
    "import seaborn as sn\n",
    "from eis.utils.data_processing import *"
   ]
  },
  {
   "cell_type": "code",
   "execution_count": null,
   "metadata": {},
   "outputs": [],
   "source": [
    "country_codes = pd.read_csv(\n",
    "    'https://www.eea.europa.eu/data-and-maps/data/waterbase-lakes-4/country-codes-and-abbreviations-32-records/country-codes-and-abbreviations-32-records/at_download/file')\n",
    "\n",
    "eu_codes = set([x.lower() for x in country_codes['ISO2']])\n",
    "\n",
    "with open(f\"{project_dir}/data/aux/all_clean_names.json\",'r') as infile:\n",
    "    \n",
    "    clean_names= json.load(infile)\n",
    "    \n",
    "with open(f\"{project_dir}/data/aux/eurostat_clean_names.json\",'r') as infile:\n",
    "    \n",
    "    es_clean_names= json.load(infile)"
   ]
  },
  {
   "cell_type": "code",
   "execution_count": null,
   "metadata": {},
   "outputs": [],
   "source": [
    "all_names = {**clean_names,**es_clean_names}"
   ]
  },
  {
   "cell_type": "markdown",
   "metadata": {},
   "source": [
    "## Load data"
   ]
  },
  {
   "cell_type": "code",
   "execution_count": null,
   "metadata": {},
   "outputs": [],
   "source": [
    "#Create a unified indicator table\n",
    "inds = pd.concat([pd.read_csv(f\"{project_dir}/data/processed/{name}_indicators.csv\") for name in\n",
    "                 ['official','web']])\n",
    "\n",
    "inds['country'] = [x.lower() for x in inds['country']]\n",
    "\n",
    "inds['variable_clean'] = [all_names[x] for x in inds['variable']]\n",
    "\n",
    "inds['country'] = ['gb' if x=='uk' else x for x in inds['country']]"
   ]
  },
  {
   "cell_type": "code",
   "execution_count": null,
   "metadata": {},
   "outputs": [],
   "source": [
    "inds.head()"
   ]
  },
  {
   "cell_type": "code",
   "execution_count": null,
   "metadata": {},
   "outputs": [],
   "source": []
  },
  {
   "cell_type": "code",
   "execution_count": null,
   "metadata": {},
   "outputs": [],
   "source": []
  },
  {
   "cell_type": "code",
   "execution_count": null,
   "metadata": {},
   "outputs": [],
   "source": []
  },
  {
   "cell_type": "code",
   "execution_count": null,
   "metadata": {},
   "outputs": [],
   "source": []
  },
  {
   "cell_type": "code",
   "execution_count": null,
   "metadata": {},
   "outputs": [],
   "source": [
    "#Correlation\n",
    "\n",
    "inds_2018 = inds.loc[inds['year']==2018].pivot_table(\n",
    "    index='country',columns='variable',values='value').loc[eu_codes]\n",
    "\n",
    "inds_2018"
   ]
  },
  {
   "cell_type": "code",
   "execution_count": null,
   "metadata": {},
   "outputs": [],
   "source": [
    "ax = sn.pairplot(inds_2018,x_vars=[x for x in ['tech_meetups','python_downloads','github_users'] if x in inds_2018.columns],\n",
    "           y_vars=[x for x in list(es_clean_names.keys()) if x in inds_2018.columns],\n",
    "           height=1.5,aspect=1.8)\n",
    "plt.tight_layout()    \n",
    "\n",
    "save_fig('fig_15_comparison.pdf',material_outputs)"
   ]
  },
  {
   "cell_type": "code",
   "execution_count": null,
   "metadata": {},
   "outputs": [],
   "source": [
    "country_ranks = inds_2018.rank()\n",
    "\n",
    "country_positions = country_ranks.mean(axis=1).sort_values(ascending=False).index\n",
    "\n",
    "fig,ax = plt.subplots(figsize=(8,9))\n",
    "\n",
    "sn.heatmap(country_ranks.loc[country_positions,[x for x in list(clean_names.keys()) \n",
    "                                               if x in country_ranks.columns]],cmap='Purples',ax=ax)\n",
    "\n",
    "ax.set_xticklabels([clean_names[x.get_text()][:30]+'...' for x in ax.get_xticklabels()])\n",
    "ax.set_yticklabels([x.get_text() for x in ax.get_yticklabels()],rotation=0)\n",
    "\n",
    "plt.tight_layout()\n",
    "\n",
    "save_fig('fig_16_country_heatmap.pdf',material_outputs)\n"
   ]
  }
 ],
 "metadata": {
  "language_info": {
   "name": "python",
   "pygments_lexer": "ipython3"
  }
 },
 "nbformat": 4,
 "nbformat_minor": 4
}
