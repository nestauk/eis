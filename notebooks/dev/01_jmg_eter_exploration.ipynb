{
 "cells": [
  {
   "cell_type": "markdown",
   "metadata": {},
   "source": [
    "# Exploration of a bulk download from ETER\n",
    "\n",
    "[ETER](https://www.eter-project.com/) is the European Tertiary Education Register. It contains institution-level information about skills supply in the EU. We have bulk-downloaded the data and here we check some of its characteristics."
   ]
  },
  {
   "cell_type": "code",
   "execution_count": null,
   "metadata": {},
   "outputs": [],
   "source": [
    "%run ../notebook_preamble.ipy\n",
    "\n",
    "import seaborn as sn\n",
    "\n",
    "from eis.utils.data_processing import *"
   ]
  },
  {
   "cell_type": "markdown",
   "metadata": {},
   "source": [
    "## Read data"
   ]
  },
  {
   "cell_type": "code",
   "execution_count": null,
   "metadata": {},
   "outputs": [],
   "source": [
    "eter = pd.read_csv(f'{project_dir}/data/raw/eter/eter_export_all.csv',encoding='utf-8',sep=';')"
   ]
  },
  {
   "cell_type": "code",
   "execution_count": null,
   "metadata": {},
   "outputs": [],
   "source": [
    "eter.shape\n",
    "    "
   ]
  },
  {
   "cell_type": "code",
   "execution_count": null,
   "metadata": {},
   "outputs": [],
   "source": [
    "# for c in eter.columns:\n",
    "#     print(c)"
   ]
  },
  {
   "cell_type": "code",
   "execution_count": null,
   "metadata": {},
   "outputs": [],
   "source": [
    "eter['Reference year'].value_counts()"
   ]
  },
  {
   "cell_type": "code",
   "execution_count": null,
   "metadata": {},
   "outputs": [],
   "source": [
    "my_variables = [\"English Institution Name\",\n",
    "                \"Reference year\",\n",
    "                \"Country Code\",\n",
    "                \"Region of establishment (NUTS 3)\",\n",
    "                \"Total students enrolled ISCED 5-7\",\n",
    "                \"Students enrolled at ISCED 5-7 - Information and Communication Technologies\",\n",
    "                \"Total graduates ISCED 5-7\",\n",
    "                \"Graduates at ISCED 5-7 - Information and Communication Technologies\",\n",
    "                \"Total students enrolled at ISCED 8\",\n",
    "                \"Students enrolled at ISCED 8 - Information and Communication Technologies\",\n",
    "                \"Total graduates at ISCED 8\",\n",
    "                \"Graduates at ISCED 8 - Information and Communication Technologies\"]"
   ]
  },
  {
   "cell_type": "code",
   "execution_count": null,
   "metadata": {},
   "outputs": [],
   "source": [
    "eter_filtered = eter[my_variables]"
   ]
  },
  {
   "cell_type": "code",
   "execution_count": null,
   "metadata": {},
   "outputs": [],
   "source": [
    "student_counts = [x for x in eter_filtered.columns if 'ISCED' in x] \n",
    "\n",
    "for x in student_counts:\n",
    "    \n",
    "    print(x)\n",
    "    eter_filtered[x] = eter_filtered[x].replace(['m','x','a','c','s',\n",
    "                                                 'xr','xc'],[np.nan,np.nan,np.nan,np.nan,np.nan,np.nan,np.nan])\n",
    "    \n",
    "    eter_filtered[x] = [int(x.split(',')[0]) if pd.isnull(x)==False else np.nan for x in eter_filtered[x]]    \n",
    "            "
   ]
  },
  {
   "cell_type": "code",
   "execution_count": null,
   "metadata": {},
   "outputs": [],
   "source": [
    "country_counts = eter_filtered.groupby([\n",
    "    \"Country Code\",\n",
    "    \"Reference year\"])[student_counts].sum().reset_index(drop=False)"
   ]
  },
  {
   "cell_type": "code",
   "execution_count": null,
   "metadata": {},
   "outputs": [],
   "source": [
    "country_pivoted = country_counts.pivot_table(index='Country Code',\n",
    "                           columns='Reference year',\n",
    "                           values='Graduates at ISCED 5-7 - Information and Communication Technologies',\n",
    "                          aggfunc='sum')"
   ]
  },
  {
   "cell_type": "code",
   "execution_count": null,
   "metadata": {},
   "outputs": [],
   "source": [
    "fig,ax = plt.subplots(figsize=(5,8))\n",
    "\n",
    "sn.heatmap(country_pivoted.sort_values(2016,ascending=False).drop(2017,axis=1),\n",
    "          cmap='Purples')\n",
    "\n",
    "save_fig('fig_6_eter.pdf',material_outputs)"
   ]
  },
  {
   "cell_type": "code",
   "execution_count": null,
   "metadata": {},
   "outputs": [],
   "source": []
  }
 ],
 "metadata": {
  "language_info": {
   "name": "python",
   "pygments_lexer": "ipython3"
  }
 },
 "nbformat": 4,
 "nbformat_minor": 4
}
