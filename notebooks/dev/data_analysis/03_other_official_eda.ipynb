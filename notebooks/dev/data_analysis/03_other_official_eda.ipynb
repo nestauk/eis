{
 "cells": [
  {
   "cell_type": "markdown",
   "metadata": {},
   "source": [
    "# Other official processing\n",
    "\n",
    "Here we collect and process data from DESI ([Digital Economy in Society Index](https://ec.europa.eu/digital-single-market/en/desi)). \n",
    "\n",
    "More specifically, we are interested in the following:\n",
    "\n",
    "* At least basic software skills (in % of individuals)\n",
    "* ICT specialists (in % of total employment)\n",
    "* ICT graduates (% of graduates)\n",
    "* At least basic digital skills (in % of individuals)\n",
    "\n",
    "We will also collect a couple of tables of data from WBank and UN.\n",
    "\n",
    "The output is a long and tidy table with indicator by year and clean names\n"
   ]
  },
  {
   "cell_type": "markdown",
   "metadata": {},
   "source": [
    "## Preamble"
   ]
  },
  {
   "cell_type": "code",
   "execution_count": null,
   "metadata": {},
   "outputs": [],
   "source": [
    "%run ../notebook_preamble.ipy"
   ]
  },
  {
   "cell_type": "markdown",
   "metadata": {},
   "source": [
    "## DESI"
   ]
  },
  {
   "cell_type": "code",
   "execution_count": null,
   "metadata": {},
   "outputs": [],
   "source": [
    "desi = pd.read_csv('https://digital-agenda-data.eu/download/DESI.csv.zip',compression='zip')"
   ]
  },
  {
   "cell_type": "code",
   "execution_count": null,
   "metadata": {},
   "outputs": [],
   "source": [
    "desi.tail()"
   ]
  },
  {
   "cell_type": "code",
   "execution_count": null,
   "metadata": {},
   "outputs": [],
   "source": [
    "desi.loc[desi['indicator']=='desi_wid_ius_ss']"
   ]
  },
  {
   "cell_type": "code",
   "execution_count": null,
   "metadata": {},
   "outputs": [],
   "source": [
    "wid = pd.read_csv('https://digital-agenda-data.eu/download/digital-agenda-scoreboard-key-indicators.csv.zip',\n",
    "                 compression='zip')"
   ]
  },
  {
   "cell_type": "code",
   "execution_count": null,
   "metadata": {},
   "outputs": [],
   "source": [
    "wid.loc[wid['indicator']=='wid_ius_bs']['time_period'].value_counts()"
   ]
  },
  {
   "cell_type": "markdown",
   "metadata": {},
   "source": [
    "## UN digital skills data"
   ]
  },
  {
   "cell_type": "code",
   "execution_count": null,
   "metadata": {},
   "outputs": [],
   "source": [
    "un = pd.read_csv('https://opendata.arcgis.com/datasets/43e7742875004583b5eeff0bd01c5a56_0.csv')"
   ]
  },
  {
   "cell_type": "code",
   "execution_count": null,
   "metadata": {},
   "outputs": [],
   "source": [
    "un['typeOfSkillDesc'].value_counts()"
   ]
  },
  {
   "cell_type": "code",
   "execution_count": null,
   "metadata": {},
   "outputs": [],
   "source": []
  }
 ],
 "metadata": {
  "language_info": {
   "name": "python",
   "pygments_lexer": "ipython3"
  }
 },
 "nbformat": 4,
 "nbformat_minor": 4
}
