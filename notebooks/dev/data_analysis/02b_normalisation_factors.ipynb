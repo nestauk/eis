{
 "cells": [
  {
   "cell_type": "markdown",
   "metadata": {},
   "source": [
    "# EIS Normalising factors\n",
    "\n",
    "We will produce two indicators to normalise EIS. They are:\n",
    "\n",
    "* Inhabitants between 20 and 24\n",
    "* Inhabitants between 10 and 64\n",
    "\n",
    "In order to create them, we combine absolute population statistics (`demo_pjan`) and age breakdowns (`demo_pjaind`)."
   ]
  },
  {
   "cell_type": "markdown",
   "metadata": {},
   "source": [
    "## Preamble\n",
    "\n"
   ]
  },
  {
   "cell_type": "code",
   "execution_count": null,
   "metadata": {},
   "outputs": [],
   "source": [
    "%run ../notebook_preamble.ipy"
   ]
  },
  {
   "cell_type": "markdown",
   "metadata": {},
   "source": [
    "## Load data"
   ]
  },
  {
   "cell_type": "code",
   "execution_count": null,
   "metadata": {},
   "outputs": [],
   "source": [
    "demo = pd.read_csv(f\"{project_dir}/data/raw/eurostat/selected_tables/demo_pjan.csv\")"
   ]
  },
  {
   "cell_type": "code",
   "execution_count": null,
   "metadata": {},
   "outputs": [],
   "source": [
    "def make_age_group(table,year_range,name,year_min=2010):\n",
    "    '''Function to calculate population size within an age range\n",
    "    \n",
    "    '''\n",
    "    \n",
    "    rel_age = set([f'Y{n}' for n in np.arange(year_range[0],year_range[1])])\n",
    "    \n",
    "    rel_table = table.loc[table['age'].isin(rel_age)].query(\"sex == 'T'\").query(f\"time >= {year_min}\").groupby(\n",
    "        ['geo\\\\time','time'])['demo_pjan'].sum().reset_index(drop=False)\n",
    "    \n",
    "    rel_table.rename(columns={'geo\\\\time':'country','time':'year'},inplace=True)\n",
    "    rel_table['variable']= name\n",
    "    \n",
    "    \n",
    "    return(rel_table)\n",
    "    \n",
    "    "
   ]
  },
  {
   "cell_type": "code",
   "execution_count": null,
   "metadata": {},
   "outputs": [],
   "source": [
    "demo_df = pd.concat(\n",
    "    [make_age_group(demo,bracket,name) for bracket,name in zip([[10,29],[15,65]],['pop_student_age'\n",
    "                                                                                  ,'pop_working_age'])])"
   ]
  },
  {
   "cell_type": "code",
   "execution_count": null,
   "metadata": {},
   "outputs": [],
   "source": [
    "demo_df.to_csv(f\"{data_path}/processed/eurostat_demo_table.csv\")"
   ]
  },
  {
   "cell_type": "code",
   "execution_count": null,
   "metadata": {},
   "outputs": [],
   "source": []
  }
 ],
 "metadata": {
  "language_info": {
   "name": "python",
   "pygments_lexer": "ipython3"
  }
 },
 "nbformat": 4,
 "nbformat_minor": 4
}
