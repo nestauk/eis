{
 "cells": [
  {
   "cell_type": "markdown",
   "metadata": {},
   "source": [
    "## StudyPortals"
   ]
  },
  {
   "cell_type": "markdown",
   "metadata": {},
   "source": [
    "### Preamble"
   ]
  },
  {
   "cell_type": "code",
   "execution_count": null,
   "metadata": {},
   "outputs": [],
   "source": [
    "%run ../notebook_preamble.ipy\n",
    "\n",
    "import os\n",
    "import requests\n",
    "from zipfile import ZipFile\n",
    "from io import BytesIO\n",
    "import altair as alt\n",
    "\n",
    "spath = f\"{project_dir}/data/raw/studyportals\""
   ]
  },
  {
   "cell_type": "code",
   "execution_count": null,
   "metadata": {},
   "outputs": [],
   "source": [
    "if os.path.exists(spath)==False:\n",
    "    os.mkdir(spath)"
   ]
  },
  {
   "cell_type": "code",
   "execution_count": null,
   "metadata": {},
   "outputs": [],
   "source": [
    "file = requests.get(\"https://github.com/nestauk/eis/blob/3_studydata/data/raw/courses.zip?raw=true\")"
   ]
  },
  {
   "cell_type": "code",
   "execution_count": null,
   "metadata": {},
   "outputs": [],
   "source": [
    "ZipFile(BytesIO(file.content)).extractall(spath)"
   ]
  },
  {
   "cell_type": "code",
   "execution_count": null,
   "metadata": {},
   "outputs": [],
   "source": [
    "with open(spath+'/courses/108/bachelor/108-bachelor-1000.json','r') as infile:\n",
    "    test = json.load(infile)"
   ]
  },
  {
   "cell_type": "code",
   "execution_count": null,
   "metadata": {},
   "outputs": [],
   "source": [
    "comp_courses = []\n",
    "\n",
    "for file in os.listdir(spath+'/courses'):\n",
    "    if not any(ext in file for ext in ['json','txt']):\n",
    "        course_types = os.listdir(spath+f'/courses/{file}')\n",
    "        for level in course_types:\n",
    "            jsons = os.listdir(spath+f'/courses/{file}/{level}')\n",
    "            for j in jsons:\n",
    "                with open(spath+f'/courses/{file}/{level}/{j}','r') as infile:\n",
    "                    courses = json.load(infile)\n",
    "                    courses_df = pd.DataFrame(courses)\n",
    "                    comp_courses.append(courses_df)\n",
    "        \n",
    "        \n",
    "        "
   ]
  },
  {
   "cell_type": "code",
   "execution_count": null,
   "metadata": {},
   "outputs": [],
   "source": [
    "sp_df = pd.concat(comp_courses).reset_index(drop=True)"
   ]
  },
  {
   "cell_type": "code",
   "execution_count": null,
   "metadata": {},
   "outputs": [],
   "source": [
    "#sp_df = sp_df_.drop_duplicates('id')"
   ]
  },
  {
   "cell_type": "code",
   "execution_count": null,
   "metadata": {},
   "outputs": [],
   "source": [
    "sp_df['venues_n'] = sp_df['venues'].apply(lambda x: len(x))"
   ]
  },
  {
   "cell_type": "code",
   "execution_count": null,
   "metadata": {},
   "outputs": [],
   "source": [
    "sp_df['country'] = [[x['country'] for x in vens][0] for vens in sp_df['venues']] "
   ]
  },
  {
   "cell_type": "code",
   "execution_count": null,
   "metadata": {},
   "outputs": [],
   "source": [
    "sp_df.columns"
   ]
  },
  {
   "cell_type": "code",
   "execution_count": null,
   "metadata": {},
   "outputs": [],
   "source": [
    "#We want to focus on the EU\n",
    "\n",
    "with open(f\"{data_path}/aux/eu_codes_names.txt\",'r') as infile:\n",
    "    eu_27_other_codes = infile.read().split(', ')\n",
    "    \n",
    "eu_27_names = [x.split(': ')[1].lower().split(',')[0] for x in eu_27_other_codes]+['liechtenstein','macedonia (fyrom)']\n",
    "\n",
    "sp_df['country_lower'] = sp_df['country'].apply(lambda x: x.lower())\n",
    "\n",
    "sp_df_eu = sp_df.loc[sp_df['country_lower'].isin(eu_27_names)]"
   ]
  },
  {
   "cell_type": "code",
   "execution_count": null,
   "metadata": {},
   "outputs": [],
   "source": [
    "len(sp_df_eu['country_lower'].value_counts())"
   ]
  },
  {
   "cell_type": "code",
   "execution_count": null,
   "metadata": {},
   "outputs": [],
   "source": [
    "#How do we select\n",
    "#Note that there are some duplicated courses because they are assigned multiple disciplines\n",
    "country_discipline_activity = sp_df_eu.groupby(['country','level','discipline_title']).size().reset_index(name='course_n')"
   ]
  },
  {
   "cell_type": "code",
   "execution_count": null,
   "metadata": {},
   "outputs": [],
   "source": [
    "#Plot\n",
    "\n",
    "country_chart = (alt.Chart(country_discipline_activity)\n",
    "                 .mark_point(filled=False,shape='square')\n",
    "                 .encode(x=alt.Y('discipline_title',title='Discipline',\n",
    "                                 sort=alt.EncodingSortField('course_n','sum',order='descending')),\n",
    "                         y=alt.X('country',title='Country',\n",
    "                                 sort=alt.EncodingSortField('course_n','sum',order='descending')),\n",
    "                         size=alt.Size('course_n',title='Number of courses'),\n",
    "                         color=alt.Color('level',title='Level',\n",
    "                                         scale=alt.Scale(scheme='Dark2')))).properties(width=275)\n",
    "country_chart\n",
    "                 "
   ]
  },
  {
   "cell_type": "code",
   "execution_count": null,
   "metadata": {},
   "outputs": [],
   "source": [
    "discipline_level = sp_df_eu.groupby(['discipline_title','level']).size().reset_index(name='course_n')\n",
    "\n",
    "d = (alt.Chart(discipline_level)\n",
    "     .mark_bar()\n",
    "     .encode(y=alt.Y('discipline_title',sort=alt.EncodingSortField('course_n',order='descending'),title='Discipline'),\n",
    "             x=alt.X('course_n',title='Number of courses'),\n",
    "             color=alt.Color('level',title='Level',sort=alt.EncodingSortField('course_n')))).properties(width=250)\n",
    "\n",
    "d"
   ]
  },
  {
   "cell_type": "code",
   "execution_count": null,
   "metadata": {},
   "outputs": [],
   "source": [
    "sp_df_eu['level'].value_counts()"
   ]
  },
  {
   "cell_type": "code",
   "execution_count": null,
   "metadata": {},
   "outputs": [],
   "source": []
  }
 ],
 "metadata": {
  "language_info": {
   "name": "python",
   "pygments_lexer": "ipython3"
  }
 },
 "nbformat": 4,
 "nbformat_minor": 4
}
