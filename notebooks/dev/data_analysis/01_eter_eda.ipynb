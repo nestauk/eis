{
 "cells": [
  {
   "cell_type": "markdown",
   "metadata": {},
   "source": [
    "# Exploration of a bulk download from ETER\n",
    "\n",
    "[ETER](https://www.eter-project.com/) is the European Tertiary Education Register. It contains institution-level information about skills supply in the EU. We have bulk-downloaded the data and here we check some of its characteristics."
   ]
  },
  {
   "cell_type": "code",
   "execution_count": null,
   "metadata": {},
   "outputs": [],
   "source": [
    "%run ../notebook_preamble.ipy\n",
    "\n",
    "import seaborn as sn\n",
    "import altair as alt\n",
    "from altair_saver import save\n",
    "from selenium import webdriver\n",
    "\n",
    "from eis.utils.data_processing import *\n",
    "\n",
    "#Altair saving code\n",
    "from dotenv import load_dotenv,find_dotenv\n",
    "load_dotenv(find_dotenv())\n",
    "w = webdriver.Chrome(os.getenv('chrome_driver_path'))\n",
    "\n",
    "save_dir = f\"{project_dir}/reports/figures/final_report\"\n",
    "\n",
    "def save_altair_(f,n):\n",
    "    save_altair(f,n,w,fig_path=save_dir)"
   ]
  },
  {
   "cell_type": "markdown",
   "metadata": {},
   "source": [
    "## Read data"
   ]
  },
  {
   "cell_type": "code",
   "execution_count": null,
   "metadata": {},
   "outputs": [],
   "source": [
    "eter = pd.read_csv(f'{project_dir}/data/raw/eter/eter_export_all.csv',encoding='utf-8',sep=';')"
   ]
  },
  {
   "cell_type": "code",
   "execution_count": null,
   "metadata": {},
   "outputs": [],
   "source": [
    "eter.shape\n",
    "    "
   ]
  },
  {
   "cell_type": "code",
   "execution_count": null,
   "metadata": {},
   "outputs": [],
   "source": [
    "#Load country code - name lookup\n",
    "country_code_lu = pd.read_csv(f\"{data_path}/aux/eu_iso_2_name_lookup.csv\").set_index('Unnamed: 0')['0'].to_dict()"
   ]
  },
  {
   "cell_type": "code",
   "execution_count": null,
   "metadata": {},
   "outputs": [],
   "source": [
    "eter['Reference year'].value_counts()"
   ]
  },
  {
   "cell_type": "code",
   "execution_count": null,
   "metadata": {},
   "outputs": [],
   "source": [
    "my_variables = [\"English Institution Name\",\n",
    "                \"Reference year\",\n",
    "                \"Country Code\",\n",
    "                \"Region of establishment (NUTS 3)\",\n",
    "                \"Total students enrolled ISCED 5-7\",\n",
    "                \"Students enrolled at ISCED 5-7 - Information and Communication Technologies\",\n",
    "                \"Total graduates ISCED 5-7\",\n",
    "                \"Graduates at ISCED 5-7 - Information and Communication Technologies\",\n",
    "                \"Total students enrolled at ISCED 8\",\n",
    "                \"Students enrolled at ISCED 8 - Information and Communication Technologies\",\n",
    "                \"Total graduates at ISCED 8\",\n",
    "                \"Graduates at ISCED 8 - Information and Communication Technologies\"]"
   ]
  },
  {
   "cell_type": "code",
   "execution_count": null,
   "metadata": {},
   "outputs": [],
   "source": [
    "eter_filtered = eter[my_variables]"
   ]
  },
  {
   "cell_type": "code",
   "execution_count": null,
   "metadata": {},
   "outputs": [],
   "source": [
    "student_counts = [x for x in eter_filtered.columns if 'ISCED' in x] \n",
    "\n",
    "for x in student_counts:\n",
    "    \n",
    "    print(x)\n",
    "    eter_filtered[x] = eter_filtered[x].replace(['m','x','a','c','s',\n",
    "                                                 'xr','xc'],[np.nan,np.nan,np.nan,np.nan,np.nan,np.nan,np.nan])\n",
    "    \n",
    "    eter_filtered[x] = [int(x.split(',')[0]) if pd.isnull(x)==False else np.nan for x in eter_filtered[x]]    \n",
    "            "
   ]
  },
  {
   "cell_type": "code",
   "execution_count": null,
   "metadata": {},
   "outputs": [],
   "source": [
    "country_counts = eter_filtered.groupby([\n",
    "    \"Country Code\",\n",
    "    \"Reference year\"])[student_counts].sum().reset_index(drop=False)"
   ]
  },
  {
   "cell_type": "code",
   "execution_count": null,
   "metadata": {},
   "outputs": [],
   "source": [
    "country_pivoted = country_counts.pivot_table(index='Country Code',\n",
    "                           columns='Reference year',\n",
    "                           values='Graduates at ISCED 5-7 - Information and Communication Technologies',\n",
    "                          aggfunc='sum')"
   ]
  },
  {
   "cell_type": "code",
   "execution_count": null,
   "metadata": {},
   "outputs": [],
   "source": [
    "country_long = country_pivoted.reset_index(drop=False).melt(id_vars='Country Code')\n",
    "\n",
    "country_long['country_name'] = country_long['Country Code'].apply(lambda x: x.lower()).map(country_code_lu)"
   ]
  },
  {
   "cell_type": "code",
   "execution_count": null,
   "metadata": {},
   "outputs": [],
   "source": [
    "# fig,ax = plt.subplots(figsize=(5,8))\n",
    "\n",
    "# sn.heatmap(country_pivoted.sort_values(2016,ascending=False).drop(2017,axis=1),\n",
    "#           cmap='Purples')\n",
    "\n",
    "# save_fig('fig_6_eter.pdf',material_outputs)"
   ]
  },
  {
   "cell_type": "code",
   "execution_count": null,
   "metadata": {},
   "outputs": [],
   "source": [
    "a = alt.Chart(country_long,height=500).mark_rect().encode(y=alt.Y('country_name',title=None,\n",
    "                                                  sort=alt.EncodingSortField('value',op='mean',order='descending')),\n",
    "                                           x='Reference year:O',\n",
    "                                                          color=alt.Color('value',title='ICT graduates'))\n",
    "\n",
    "\n",
    "save_altair_(a,'fig_7_eter')\n",
    "\n",
    "a"
   ]
  },
  {
   "cell_type": "code",
   "execution_count": null,
   "metadata": {},
   "outputs": [],
   "source": []
  },
  {
   "cell_type": "code",
   "execution_count": null,
   "metadata": {},
   "outputs": [],
   "source": []
  }
 ],
 "metadata": {
  "language_info": {
   "name": "python",
   "pygments_lexer": "ipython3"
  }
 },
 "nbformat": 4,
 "nbformat_minor": 4
}
