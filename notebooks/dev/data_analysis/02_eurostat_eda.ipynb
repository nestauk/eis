{
 "cells": [
  {
   "cell_type": "markdown",
   "metadata": {},
   "source": [
    "# Eurostat Processing\n",
    "\n",
    "### Tasks\n",
    "\n",
    "1. Read and process Eurostat data\n",
    "    1. Write functions to filter tables at the levels we need\n",
    "    2. Produce coverage figures (country x year x indicator)\n",
    "    3. Analyse geography and trends\n",
    "    4. Analyse correlations"
   ]
  },
  {
   "cell_type": "markdown",
   "metadata": {},
   "source": [
    "## Preamble"
   ]
  },
  {
   "cell_type": "code",
   "execution_count": null,
   "metadata": {},
   "outputs": [],
   "source": [
    "%run ../notebook_preamble.ipy\n",
    "\n",
    "import seaborn as sn\n",
    "import yaml\n",
    "import altair as alt\n",
    "from altair_saver import save\n",
    "from scipy.stats import zscore\n",
    "from eis.utils.data_processing import *\n",
    "from selenium import webdriver"
   ]
  },
  {
   "cell_type": "code",
   "execution_count": null,
   "metadata": {},
   "outputs": [],
   "source": [
    "#Altair saving code\n",
    "from dotenv import load_dotenv,find_dotenv\n",
    "load_dotenv(find_dotenv())\n",
    "w = webdriver.Chrome(os.getenv('chrome_driver_path'))\n",
    "\n",
    "save_dir = f\"{project_dir}/reports/figures/final_report\"\n",
    "\n",
    "def save_altair_(f,n):\n",
    "    save_altair(f,n,w,fig_path=save_dir)"
   ]
  },
  {
   "cell_type": "code",
   "execution_count": null,
   "metadata": {},
   "outputs": [],
   "source": [
    "if os.path.exists(save_dir)==False:\n",
    "    os.mkdir(save_dir)"
   ]
  },
  {
   "cell_type": "code",
   "execution_count": null,
   "metadata": {},
   "outputs": [],
   "source": [
    "def filter_df(df,filter_dict,var_name,make_concise=True):\n",
    "    '''\n",
    "    Filters a df with the keys and values of a filter_dict\n",
    "    \n",
    "    Args:\n",
    "        df (pandas dataframe) is a dataframe\n",
    "        filter_dict (dict) is a dict where the keys are filter variables and the values are filter values (lists)\n",
    "        make_concise (str) only returns country, year and variable\n",
    "        \n",
    "    '''\n",
    "    \n",
    "    df_2 = df.copy()\n",
    "\n",
    "    \n",
    "    for k,v in filter_dict.items():\n",
    "        df_2 = df_2.loc[[x in v for x in df_2[k]]]\n",
    "    \n",
    "    if make_concise==True:\n",
    "        return(df_2.reset_index(drop=True)[['geo\\\\time','time',var_name]])\n",
    "    else:\n",
    "        return(df_2.reset_index(drop=True))"
   ]
  },
  {
   "cell_type": "markdown",
   "metadata": {},
   "source": [
    "### 1. Visualise indicator dimensions"
   ]
  },
  {
   "cell_type": "code",
   "execution_count": null,
   "metadata": {},
   "outputs": [],
   "source": [
    "dim = pd.read_csv(f\"{project_dir}/data/aux/indicator_dimensions.csv\")\n",
    "dim['latest_year'] = [int(x[-4:]) for x in dim['Temporal coverage']]"
   ]
  },
  {
   "cell_type": "code",
   "execution_count": null,
   "metadata": {},
   "outputs": [],
   "source": [
    "#Country resolution\n",
    "\n",
    "a = alt.Chart(dim).mark_bar().encode(y=alt.Y('Highest geographical resolution',title=None),\n",
    "                                 x = alt.X('Highest geographical resolution','count'),\n",
    "                                color='Highest geographical resolution').facet(\n",
    "    row=alt.Row('Type of data:O',title=None,sort=['official','institutional','Web']))\n",
    "\n",
    "save_altair_(a,\"fig_0_geo_dimensions\")\n",
    "\n",
    "a"
   ]
  },
  {
   "cell_type": "code",
   "execution_count": null,
   "metadata": {},
   "outputs": [],
   "source": [
    "#Country resolution\n",
    "\n",
    "b = alt.Chart(dim,width=100).mark_bar().encode(y=alt.Y('Filtering options'),\n",
    "                                 x = alt.X('Filtering options','count'),\n",
    "                                color='Filtering options').facet(column=alt.Column(\n",
    "    'Type of data',sort=['Official','Institutional','Web']))\n",
    "\n",
    "save_altair_(b,\"fig_1_sect_dimensions\")"
   ]
  },
  {
   "cell_type": "code",
   "execution_count": null,
   "metadata": {},
   "outputs": [],
   "source": [
    "b"
   ]
  },
  {
   "cell_type": "code",
   "execution_count": null,
   "metadata": {},
   "outputs": [],
   "source": [
    "dim.groupby('Type of data')['latest_year'].mean()"
   ]
  },
  {
   "cell_type": "code",
   "execution_count": null,
   "metadata": {},
   "outputs": [],
   "source": [
    "c = alt.Chart(dim,width=200).transform_fold(['Trustworthiness','Complexity'],['Dimension','value']).mark_bar().encode(\n",
    "y=alt.Key('Dimension:N',title=None),\n",
    "    x=alt.X('value:Q','mean'),color='Dimension:N').facet(row=alt.Row('Type of data',\n",
    "                                                              sort=['Official','Institutional','Web']))\n",
    "\n",
    "save_altair_(c,\"fig_3_other_dimensions\")\n",
    "\n",
    "c"
   ]
  },
  {
   "cell_type": "markdown",
   "metadata": {},
   "source": [
    "### 2. Eurostat indicator analysis"
   ]
  },
  {
   "cell_type": "code",
   "execution_count": null,
   "metadata": {},
   "outputs": [],
   "source": [
    "# Load the indicators, variable lookups and country codes\n",
    "\n",
    "indicator_location = f\"{project_dir}/data/raw/eurostat/selected_tables\"\n",
    "\n",
    "with open(f\"{project_dir}/model_config.yaml\",'r') as infile:\n",
    "    selected_indicators = yaml.safe_load(infile)['eurostat_inventory']\n",
    "    \n",
    "with open(f'{project_dir}/data/aux/eis_filters.yaml','r') as infile:\n",
    "    all_filters = yaml.safe_load(infile)\n",
    "    \n",
    "with open(f'{project_dir}/data/aux/eurostat_clean_names.json','r') as infile:\n",
    "    es_clean_names = json.load(infile)\n",
    "    \n",
    "with open(f'{project_dir}/data/aux/ind_to_category.json','r') as infile:\n",
    "    ind_to_cat = json.load(infile)\n",
    "\n",
    "#Country codes\n",
    "with open(f\"{data_path}/aux/eu_codes_names.txt\",'r') as infile:\n",
    "    eu_27_other_codes = infile.read().split(', ')\n",
    "    \n",
    "eu_codes_lookup = {x.split(':')[0].strip().lower(): x.split(':')[1].strip() for x in eu_27_other_codes}\n",
    "eu_codes_lookup['gr']= 'Greece'\n",
    "eu_codes_lookup['gb'] = 'United Kingdom'\n",
    "eu_codes_lookup['uk'] = 'United Kingdom'\n",
    "eu_codes_lookup['is'] = 'Iceland'\n",
    "eu_codes_lookup['il'] = 'Israel'\n",
    "eu_codes_lookup['ua'] = 'Ukraine'\n",
    "\n",
    "eu_codes = set(eu_codes_lookup.keys())\n",
    "\n",
    "pd.Series(eu_codes_lookup).to_csv(f\"{data_path}/aux/eu_iso_2_name_lookup.csv\")"
   ]
  },
  {
   "cell_type": "code",
   "execution_count": null,
   "metadata": {},
   "outputs": [],
   "source": [
    "#Load and store the EIS indicators\n",
    "indicator_store = {}\n",
    "\n",
    "for x in os.listdir(indicator_location):\n",
    "    \n",
    "    if any(y in x for y in selected_indicators):\n",
    "        if 'csv' in x:\n",
    "            indicator_store[x.split('.')[0]] = pd.read_csv(f\"{indicator_location}/{x}\")"
   ]
  },
  {
   "cell_type": "code",
   "execution_count": null,
   "metadata": {},
   "outputs": [],
   "source": [
    "#Here we create a dict where every element is a df\n",
    "filtered_dfs = {}\n",
    "\n",
    "for l in es_clean_names.keys():\n",
    "    \n",
    "    df = filter_df(indicator_store[l],\n",
    "          all_filters[l],l)\n",
    "    \n",
    "    df_pivoted = df.pivot_table(\n",
    "        index='geo\\\\time',columns='time',values=l,aggfunc='sum').replace(0,np.nan)\n",
    "    \n",
    "    #Drop EU aggregates and sort by the last year\n",
    "    df_processed = df_pivoted.drop(\n",
    "        [x for x in df_pivoted.index if any(v in x for v in ['EU','EA'])])\n",
    "    \n",
    "    sort_countries = df_processed.mean(axis=1).sort_values(ascending=False).index\n",
    "    \n",
    "    filtered_dfs[l] = df_processed.loc[sort_countries]"
   ]
  },
  {
   "cell_type": "code",
   "execution_count": null,
   "metadata": {},
   "outputs": [],
   "source": [
    "#Create and save a long version\n",
    "\n",
    "out = []\n",
    "\n",
    "for k,v in filtered_dfs.items():\n",
    "    \n",
    "    long = v.reset_index(drop=False).melt(id_vars='geo\\\\time').rename(columns={'geo\\\\time':'country'})\n",
    "    \n",
    "    long['source'] = k\n",
    "    long['clean_name'] = es_clean_names[k]\n",
    "    long['category'] = ind_to_cat[k]\n",
    "    \n",
    "    out.append(long)\n"
   ]
  },
  {
   "cell_type": "code",
   "execution_count": null,
   "metadata": {},
   "outputs": [],
   "source": [
    "comb = pd.concat(out)\n",
    "\n",
    "comb['country_name'] = comb['country'].apply(lambda x: x.lower()).map(eu_codes_lookup)\n",
    "\n",
    "comb = comb.dropna(axis=0,subset=['country_name'])\n",
    "\n",
    "comb_2 = comb[['country','time','value','source']].rename(columns={'time':'year',\n",
    "                                                             'source':'variable'})\n",
    "\n",
    "comb_2.to_csv(f\"{project_dir}/data/processed/official_indicators.csv\",index=False)"
   ]
  },
  {
   "cell_type": "markdown",
   "metadata": {},
   "source": [
    "### Visualise results"
   ]
  },
  {
   "cell_type": "code",
   "execution_count": null,
   "metadata": {},
   "outputs": [],
   "source": [
    "#These are the heights\n",
    "h = [1000,700,700]"
   ]
  },
  {
   "cell_type": "code",
   "execution_count": null,
   "metadata": {},
   "outputs": [],
   "source": [
    "for n,cat in enumerate(['At work','In education','In society']):\n",
    "    \n",
    "    print(cat)\n",
    "\n",
    "    d = comb.loc[comb['category']==cat].reset_index(drop=False)\n",
    "\n",
    "    c = alt.Chart(d).mark_rect().encode(\n",
    "        y=alt.Y('country_name:O',title=None,sort= alt.EncodingSortField('value',op='mean',order='descending')),\n",
    "        x=alt.X('time:O',title='Year'),\n",
    "        color=alt.Color('value:Q',title='Value'),\n",
    "        facet = alt.Facet('clean_name:N',columns=6,align='none',\n",
    "                          sort=alt.EncodingSortField('time:O',op='count',order='descending'),\n",
    "                         title=cat)).properties(\n",
    "        height=h[n])\n",
    "\n",
    "    t = c.resolve_scale(x='independent',y='independent',color='independent').configure_axis(labelFontSize=12,\n",
    "                                                                                           titleFontSize=18)\n",
    "\n",
    "    save_altair_(t,f\"fig_{n+3}_eurostat_{'_'.join(cat.lower().split(' '))}\")"
   ]
  },
  {
   "cell_type": "code",
   "execution_count": null,
   "metadata": {},
   "outputs": [],
   "source": [
    "aw_set_1 = ['Employed in High-Tech occupations (Thousand)',\n",
    "            'Employees in ICT occupations (% of total)',\n",
    "            'R&D personnel in the computing sector (% of all R&D personnel)']\n",
    "\n",
    "aw_set_2 = ['SMEs employing ICT specialists (% of all enterprises)',\n",
    "            'SMEs that sought to recruit ICT specialists (% of all enterprises)',\n",
    "            'SMEs with ICT functions delivered mainly by employees (% of all enterprises)']\n",
    "\n"
   ]
  },
  {
   "cell_type": "code",
   "execution_count": null,
   "metadata": {},
   "outputs": [],
   "source": [
    "# Alternative chart for work\n",
    "\n",
    "d = comb.loc[comb['category']=='At work'].reset_index(drop=False)\n",
    "\n",
    "names = ['group_1','group_2']\n",
    "\n",
    "for n,_set in enumerate([aw_set_1,aw_set_2]):\n",
    "\n",
    "    c = (alt.Chart(d)\n",
    "         .transform_filter(alt.FieldOneOfPredicate('clean_name',_set))\n",
    "         .mark_rect()\n",
    "         .encode(\n",
    "             y=alt.Y('country_name:O',title=None,sort= alt.EncodingSortField('value',op='mean',order='descending')),\n",
    "             x=alt.X('time:O',title='Year'),\n",
    "             color=alt.Color('value:Q',title='Value'),\n",
    "             facet = alt.Facet('clean_name:N',columns=6,align='none',\n",
    "                               sort=alt.EncodingSortField('time:O',op='count',order='descending'),\n",
    "                               header=alt.Header(title='At work',titleFontSize=18)))\n",
    "         .properties(height=700,width=500))\n",
    "\n",
    "    t = c.resolve_scale(x='independent',y='independent',color='independent').configure_axis(\n",
    "        labelFontSize=14,titleFontSize=18).configure_header(labelFontSize=18)\n",
    "\n",
    "    save_altair_(t,f\"fig_{3}_eurostat_at_work_{names[n]}\")\n",
    "\n"
   ]
  },
  {
   "cell_type": "markdown",
   "metadata": {},
   "source": [
    "### UN skills data"
   ]
  },
  {
   "cell_type": "code",
   "execution_count": null,
   "metadata": {},
   "outputs": [],
   "source": [
    "with open(f'{project_dir}/data/aux/eu_iso_3.txt','r') as infile:\n",
    "    iso_3 = set(infile.read().split(', '))\n",
    "\n",
    "#We download an ISO3 - country name to lookup names\n",
    "iso_3_2 = pd.read_csv(\n",
    "    \"https://gist.githubusercontent.com/tadast/8827699/raw/3cd639fa34eec5067080a61c69e3ae25e3076abb/countries_codes_and_coordinates.csv\")\n",
    "iso_3_name_lookup = iso_3_2.set_index('Alpha-3 code')['Country']\n",
    "iso_3_name_lookup.index = [re.sub(\"\\\"\",'',x).strip() for x in iso_3_name_lookup.index]\n",
    "iso_3_name_dict = iso_3_name_lookup.to_dict()\n",
    "    "
   ]
  },
  {
   "cell_type": "code",
   "execution_count": null,
   "metadata": {},
   "outputs": [],
   "source": [
    "un = pd.read_csv('https://opendata.arcgis.com/datasets/43e7742875004583b5eeff0bd01c5a56_0.csv')\n",
    "\n",
    "un_eu = un.loc[([x in iso_3 for x in un['ISO3']]) & (un['sexDesc']=='Both sexes')].reset_index(drop=False)\n",
    "\n",
    "y_var = ['value_2010', 'value_2011',\n",
    "       'value_2012', 'value_2013', 'value_2014', 'value_2015', 'value_2016',\n",
    "       'value_2017', 'value_2018']\n",
    "\n",
    "un_eu_melt = un_eu[['ISO3','typeOfSkillDesc']+y_var].melt(id_vars=['ISO3','typeOfSkillDesc'])\n",
    "\n",
    "un_eu_melt['year'] = un_eu_melt['variable'].apply(lambda x: int(x.split('_')[-1]))"
   ]
  },
  {
   "cell_type": "code",
   "execution_count": null,
   "metadata": {},
   "outputs": [],
   "source": [
    "un_eu_melt['country_name'] = un_eu_melt['ISO3'].map(iso_3_name_dict)"
   ]
  },
  {
   "cell_type": "code",
   "execution_count": null,
   "metadata": {},
   "outputs": [],
   "source": [
    "a = alt.Chart(un_eu_melt.dropna(axis=0,subset=['value']),height=400).mark_rect().encode(\n",
    "    y=alt.Y('country_name',title=None,sort=alt.EncodingSortField('value','count',order='descending')),\n",
    "    x='year:O',color=alt.Color('value','count',title=['Available indicators', 'in year']))\n",
    "\n",
    "b = alt.Chart(un_eu_melt,height=400).transform_filter(\n",
    "    alt.datum.year==2017).mark_rect().encode(y=alt.Y('country_name',title=None,sort=alt.EncodingSortField('value','mean',\n",
    "                                                                                       order='descending')),\n",
    "                                           x = alt.X(\n",
    "                                               'typeOfSkillDesc',\n",
    "                                               sort=alt.EncodingSortField('value','mean',\n",
    "                                                                          order='descending'),title='Skill'),\n",
    "                                               \n",
    "                                               color=alt.Color('value',title='% with skill'))\n",
    "\n",
    "c = alt.hconcat(a,b).resolve_scale(color='independent')\n",
    "\n",
    "save_altair_(c,\"fig_6_un_indicators\")\n",
    "\n",
    "c"
   ]
  },
  {
   "cell_type": "code",
   "execution_count": null,
   "metadata": {},
   "outputs": [],
   "source": []
  }
 ],
 "metadata": {
  "language_info": {
   "name": "python",
   "pygments_lexer": "ipython3"
  }
 },
 "nbformat": 4,
 "nbformat_minor": 4
}
