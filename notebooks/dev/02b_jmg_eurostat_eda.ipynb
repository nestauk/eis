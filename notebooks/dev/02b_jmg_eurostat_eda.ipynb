{
 "cells": [
  {
   "cell_type": "markdown",
   "metadata": {},
   "source": [
    "# Eurostat Processing\n",
    "\n",
    "### Tasks\n",
    "\n",
    "1. Read and process Eurostat data\n",
    "    1. Write functions to filter tables at the levels we need\n",
    "    2. Produce coverage figures (country x year x indicator)\n",
    "    3. Analyse geography and trends\n",
    "    4. Analyse correlations"
   ]
  },
  {
   "cell_type": "markdown",
   "metadata": {},
   "source": [
    "## Preamble"
   ]
  },
  {
   "cell_type": "code",
   "execution_count": null,
   "metadata": {},
   "outputs": [],
   "source": [
    "%run ../notebook_preamble.ipy\n",
    "\n",
    "import seaborn as sn\n",
    "import yaml\n",
    "import altair as alt\n",
    "from altair_saver import save\n",
    "from scipy.stats import zscore\n",
    "from eis.utils.data_processing import *\n"
   ]
  },
  {
   "cell_type": "code",
   "execution_count": null,
   "metadata": {},
   "outputs": [],
   "source": [
    "material_outputs = f\"{project_dir}/reports/figures/exploratory_paper_v1\"\n"
   ]
  },
  {
   "cell_type": "markdown",
   "metadata": {},
   "source": [
    "### Visualise indicator dimensions"
   ]
  },
  {
   "cell_type": "code",
   "execution_count": null,
   "metadata": {},
   "outputs": [],
   "source": [
    "dim = pd.read_csv(f\"{project_dir}/data/aux/indicator_dimensions.csv\")\n",
    "dim['latest_year'] = [int(x[-4:]) for x in dim['Temporal coverage']]"
   ]
  },
  {
   "cell_type": "code",
   "execution_count": null,
   "metadata": {},
   "outputs": [],
   "source": [
    "dim.head()"
   ]
  },
  {
   "cell_type": "code",
   "execution_count": null,
   "metadata": {},
   "outputs": [],
   "source": [
    "#Country resolution\n",
    "\n",
    "a = alt.Chart(dim).mark_bar().encode(y=alt.Y('Highest geographical resolution',title=None),\n",
    "                                 x = alt.X('Highest geographical resolution','count'),\n",
    "                                color='Highest geographical resolution').facet(\n",
    "    row=alt.Row('Type of data:O',title=None,sort=['official','institutional','Web']))\n",
    "\n",
    "save(a,f\"{material_outputs}/fig_0_geo_dimensions.pdf\")"
   ]
  },
  {
   "cell_type": "code",
   "execution_count": null,
   "metadata": {},
   "outputs": [],
   "source": [
    "a"
   ]
  },
  {
   "cell_type": "code",
   "execution_count": null,
   "metadata": {},
   "outputs": [],
   "source": [
    "#Country resolution\n",
    "\n",
    "b = alt.Chart(dim,width=100).mark_bar().encode(y=alt.Y('Filtering options'),\n",
    "                                 x = alt.X('Filtering options','count'),\n",
    "                                color='Filtering options').facet(column=alt.Column(\n",
    "    'Type of data',sort=['Official','Institutional','Web']))\n",
    "\n",
    "b\n",
    "save(b,f\"{material_outputs}/fig_1_sect_dimensions.pdf\")"
   ]
  },
  {
   "cell_type": "code",
   "execution_count": null,
   "metadata": {},
   "outputs": [],
   "source": [
    "b"
   ]
  },
  {
   "cell_type": "code",
   "execution_count": null,
   "metadata": {},
   "outputs": [],
   "source": [
    "dim.groupby('Type of data')['latest_year'].mean()"
   ]
  },
  {
   "cell_type": "code",
   "execution_count": null,
   "metadata": {},
   "outputs": [],
   "source": [
    "c = alt.Chart(dim,width=200).transform_fold(['Trustworthiness','Complexity'],['Dimension','value']).mark_bar().encode(\n",
    "y=alt.Key('Dimension:N',title=None),\n",
    "    x=alt.X('value:Q','mean'),color='Dimension:N').facet(row=alt.Row('Type of data',\n",
    "                                                              sort=['Official','Institutional','Web']))\n",
    "\n",
    "save(c,f\"{material_outputs}/fig_3_other_dimensions.pdf\")\n",
    "\n",
    "c"
   ]
  },
  {
   "cell_type": "markdown",
   "metadata": {},
   "source": [
    "### Eurostat indicator analysis"
   ]
  },
  {
   "cell_type": "code",
   "execution_count": null,
   "metadata": {},
   "outputs": [],
   "source": [
    "# Load the indicators\n",
    "\n",
    "indicator_location = f\"{project_dir}/data/raw/eurostat/selected_tables\"\n",
    "\n",
    "with open(f\"{project_dir}/model_config.yaml\",'r') as infile:\n",
    "    selected_indicators = yaml.safe_load(infile)['eurostat_inventory']"
   ]
  },
  {
   "cell_type": "code",
   "execution_count": null,
   "metadata": {},
   "outputs": [],
   "source": [
    "indicator_store = {}\n",
    "\n",
    "for x in os.listdir(indicator_location):\n",
    "    \n",
    "    if any(y in x for y in selected_indicators):\n",
    "        if 'csv' in x:\n",
    "            indicator_store[x.split('.')[0]] = pd.read_csv(f\"{indicator_location}/{x}\")"
   ]
  },
  {
   "cell_type": "code",
   "execution_count": null,
   "metadata": {},
   "outputs": [],
   "source": [
    "with open(f'{project_dir}/data/aux/eis_filters.yaml','r') as infile:\n",
    "    all_filters = yaml.safe_load(infile)\n",
    "    \n",
    "with open(f'{project_dir}/data/aux/eurostat_clean_names.json','r') as infile:\n",
    "    es_clean_names = json.load(infile)\n",
    "    \n",
    "with open(f'{project_dir}/data/aux/ind_to_category.json','r') as infile:\n",
    "    ind_to_cat = json.load(infile)\n",
    "\n"
   ]
  },
  {
   "cell_type": "code",
   "execution_count": null,
   "metadata": {},
   "outputs": [],
   "source": [
    "def filter_df(df,filter_dict,var_name,make_concise=True):\n",
    "    '''\n",
    "    Filters a df with the keys and values of a filter_dict\n",
    "    \n",
    "    Args:\n",
    "        df (pandas dataframe) is a dataframe\n",
    "        filter_dict (dict) is a dict where the keys are filter variables and the values are filter values (lists)\n",
    "        make_concise (str) only returns country, year and variable\n",
    "        \n",
    "    '''\n",
    "    \n",
    "    df_2 = df.copy()\n",
    "\n",
    "    \n",
    "    for k,v in filter_dict.items():\n",
    "        df_2 = df_2.loc[[x in v for x in df_2[k]]]\n",
    "    \n",
    "    if make_concise==True:\n",
    "        return(df_2.reset_index(drop=True)[['geo\\\\time','time',var_name]])\n",
    "    else:\n",
    "        return(df_2.reset_index(drop=True))"
   ]
  },
  {
   "cell_type": "code",
   "execution_count": null,
   "metadata": {},
   "outputs": [],
   "source": [
    "#Here we create a dict where every element is a df\n",
    "filtered_dfs = {}\n",
    "\n",
    "for l in es_clean_names.keys():\n",
    "    \n",
    "    df = filter_df(indicator_store[l],\n",
    "          all_filters[l],l)\n",
    "    \n",
    "    df_pivoted = df.pivot_table(\n",
    "        index='geo\\\\time',columns='time',values=l,aggfunc='sum').replace(0,np.nan)\n",
    "    \n",
    "    #Drop EU aggregates and sort by the last year\n",
    "    df_processed = df_pivoted.drop(\n",
    "        [x for x in df_pivoted.index if any(v in x for v in ['EU','EA'])])\n",
    "    \n",
    "    sort_countries = df_processed.mean(axis=1).sort_values(ascending=False).index\n",
    "    \n",
    "    filtered_dfs[l] = df_processed.loc[sort_countries]"
   ]
  },
  {
   "cell_type": "code",
   "execution_count": null,
   "metadata": {},
   "outputs": [],
   "source": [
    "#Create and save a long version\n",
    "\n",
    "out = []\n",
    "\n",
    "for k,v in filtered_dfs.items():\n",
    "    \n",
    "    long = v.reset_index(drop=False).melt(id_vars='geo\\\\time').rename(columns={'geo\\\\time':'country'})\n",
    "    \n",
    "    long['source'] = k\n",
    "    #long['clean_name'] = '\\n ('.join(es_clean_names[k].split(' ('))\n",
    "    long['clean_name'] = es_clean_names[k]\n",
    "    long['category'] = ind_to_cat[k]\n",
    "    \n",
    "    out.append(long)\n"
   ]
  },
  {
   "cell_type": "code",
   "execution_count": null,
   "metadata": {},
   "outputs": [],
   "source": [
    "comb = pd.concat(out)\n",
    "\n",
    "comb_2 = comb[['country','time','value','source']].rename(columns={'time':'year',\n",
    "                                                             'source':'variable'})\n",
    "\n",
    "comb_2.to_csv(f\"{project_dir}/data/processed/official_indicators.csv\",index=False)"
   ]
  },
  {
   "cell_type": "markdown",
   "metadata": {},
   "source": [
    "### Visualise results"
   ]
  },
  {
   "cell_type": "code",
   "execution_count": null,
   "metadata": {},
   "outputs": [],
   "source": [
    "\n",
    "h = [1000,700,700]"
   ]
  },
  {
   "cell_type": "code",
   "execution_count": null,
   "metadata": {},
   "outputs": [],
   "source": [
    "for n,cat in enumerate(['At work','In education','In society']):\n",
    "    \n",
    "    print(cat)\n",
    "\n",
    "    d = comb.loc[comb['category']==cat].reset_index(drop=False)\n",
    "\n",
    "    c = alt.Chart(d).mark_rect().encode(\n",
    "        y=alt.Y('country:O',sort= alt.EncodingSortField('value',op='mean',order='descending')),\n",
    "        x='time:O',color='value:Q',\n",
    "        facet = alt.Facet('clean_name:N',columns=2,align='none',\n",
    "                          sort=alt.EncodingSortField('time:O',op='count',order='descending'),\n",
    "                         title=cat)).properties(\n",
    "        height=h[n])\n",
    "\n",
    "    t = c.resolve_scale(x='independent',y='independent',color='independent')\n",
    "\n",
    "    save(t,f\"{material_outputs}/fig_{n+3}_eurostat_{'_'.join(cat.lower().split(' '))}.pdf\")"
   ]
  },
  {
   "cell_type": "markdown",
   "metadata": {},
   "source": [
    "### UN skills data"
   ]
  },
  {
   "cell_type": "code",
   "execution_count": null,
   "metadata": {},
   "outputs": [],
   "source": [
    "with open(f'{project_dir}/data/aux/eu_iso_3.txt','r') as infile:\n",
    "    iso_3 = set(infile.read().split(', '))\n"
   ]
  },
  {
   "cell_type": "code",
   "execution_count": null,
   "metadata": {},
   "outputs": [],
   "source": [
    "un = pd.read_csv('https://opendata.arcgis.com/datasets/43e7742875004583b5eeff0bd01c5a56_0.csv')\n",
    "\n",
    "un_eu = un.loc[([x in iso_3 for x in un['ISO3']]) & (un['sexDesc']=='Both sexes')].reset_index(drop=False)"
   ]
  },
  {
   "cell_type": "code",
   "execution_count": null,
   "metadata": {},
   "outputs": [],
   "source": []
  },
  {
   "cell_type": "code",
   "execution_count": null,
   "metadata": {},
   "outputs": [],
   "source": [
    "y_var = ['value_2010', 'value_2011',\n",
    "       'value_2012', 'value_2013', 'value_2014', 'value_2015', 'value_2016',\n",
    "       'value_2017', 'value_2018']\n",
    "\n",
    "un_eu_melt = un_eu[['ISO3','typeOfSkillDesc']+y_var].melt(id_vars=['ISO3','typeOfSkillDesc'])"
   ]
  },
  {
   "cell_type": "code",
   "execution_count": null,
   "metadata": {},
   "outputs": [],
   "source": [
    "un_eu_melt['year'] = un_eu_melt['variable'].apply(lambda x: int(x.split('_')[-1]))"
   ]
  },
  {
   "cell_type": "code",
   "execution_count": null,
   "metadata": {},
   "outputs": [],
   "source": [
    "a = alt.Chart(un_eu_melt.dropna(axis=0,subset=['value']),height=400).mark_rect().encode(\n",
    "    y=alt.Y('ISO3',sort=alt.EncodingSortField('value','count',order='descending')),\n",
    "    x='year:O',color=alt.Color('value','count',title='Available indicators in year'))\n",
    "\n",
    "b = alt.Chart(un_eu_melt,height=400).transform_filter(\n",
    "    alt.datum.year==2017).mark_rect().encode(y=alt.Y('ISO3',sort=alt.EncodingSortField('value','mean',\n",
    "                                                                                       order='descending')),\n",
    "                                           x = alt.X(\n",
    "                                               'typeOfSkillDesc',\n",
    "                                               sort=alt.EncodingSortField('value','mean',\n",
    "                                                                          order='descending'),title='Skill'),\n",
    "                                               \n",
    "                                               color=alt.Color('value',title='% with skill'))\n",
    "\n",
    "c = alt.hconcat(a,b).resolve_scale(color='independent')\n",
    "\n",
    "save(c,f\"{material_outputs}/fig_6_un_indicators.pdf\")\n",
    "\n",
    "c"
   ]
  },
  {
   "cell_type": "code",
   "execution_count": null,
   "metadata": {},
   "outputs": [],
   "source": []
  },
  {
   "cell_type": "code",
   "execution_count": null,
   "metadata": {},
   "outputs": [],
   "source": []
  }
 ],
 "metadata": {
  "language_info": {
   "name": "python",
   "pygments_lexer": "ipython3"
  }
 },
 "nbformat": 4,
 "nbformat_minor": 4
}
